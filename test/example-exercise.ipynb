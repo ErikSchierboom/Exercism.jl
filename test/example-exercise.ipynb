{
 "cells": [
  {
   "cell_type": "markdown",
   "metadata": {},
   "source": [
    "# Complex Numbers\n",
    "\n",
    "A complex number is a number in the form `a + b * i` where `a` and `b` are real and `i` satisfies `i^2 = -1`.\n",
    "\n",
    "Assume the programming language you are using does not have an implementation of complex numbers.\n",
    "\n",
    "The Julia Base implementation of complex numbers can be found here: https://github.com/JuliaLang/julia/blob/master/base/complex.jl.\n",
    "\n",
    "---\n",
    "\n",
    "You can work on the bonus exercises by changing `@test_skip` to `@test`.\n",
    "\n",
    "## Bonus A\n",
    "Implement the exponential function on complex numbers `exp(::ComplexNumber)`.\n",
    "\n",
    "## Bonus B\n",
    "Implement `jm` analogous to `im` so that `1 + 1jm == ComplexNumber(1, 1)`.\n",
    "\n",
    "## Source\n",
    "\n",
    "Wikipedia [https://en.wikipedia.org/wiki/Complex_number](https://en.wikipedia.org/wiki/Complex_number)\n",
    "\n",
    "\n",
    "## Submitting Incomplete Solutions\n",
    "It's possible to submit an incomplete solution so you can see how others have completed the exercise.\n"
   ]
  },
  {
   "cell_type": "code",
   "execution_count": 2,
   "metadata": {},
   "outputs": [
    {
     "data": {
      "text/plain": [
       "- (generic function with 196 methods)"
      ]
     },
     "execution_count": 2,
     "metadata": {},
     "output_type": "execute_result"
    }
   ],
   "source": [
    "# submit\n",
    "\n",
    "import Base: real, imag, reim, conj, abs, +, -, *, /, exp, convert, promote_rule, isfinite\n",
    "\n",
    "struct ComplexNumber{T<:Real} <: Number\n",
    "    re::T\n",
    "    im::T\n",
    "end\n",
    "\n",
    "ComplexNumber(re::Real, im::Real) = ComplexNumber(promote(re, im)...)\n",
    "ComplexNumber(re::Real) = ComplexNumber(re, zero(re))\n",
    "\n",
    "convert(::Type{ComplexNumber{T}}, x::Real) where {T<:Real} = ComplexNumber{T}(x, 0)\n",
    "convert(::Type{ComplexNumber{T}}, z::ComplexNumber) where {T<:Real} = ComplexNumber{T}(real(z), imag(z))\n",
    "\n",
    "promote_rule(::Type{ComplexNumber{T}}, ::Type{S}) where {T<:Real, S<:Real} = ComplexNumber{promote_type(T, S)}\n",
    "promote_rule(::Type{ComplexNumber{T}}, ::Type{ComplexNumber{S}}) where {T<:Real, S<:Real} = ComplexNumber{promote_type(T, S)}\n",
    "\n",
    "real(z::ComplexNumber) = z.re\n",
    "imag(z::ComplexNumber) = z.im\n",
    "\n",
    "reim(z::ComplexNumber) = z.re, z.im\n",
    "\n",
    "conj(z::ComplexNumber) = ComplexNumber(real(z), -imag(z))\n",
    "abs(z::ComplexNumber)  = hypot(real(z), imag(z))\n",
    "\n",
    "isfinite(z::ComplexNumber) = isfinite(real(z)) && isfinite(imag(z))\n",
    "\n",
    "+(u::ComplexNumber, v::ComplexNumber) = ComplexNumber(real(u) + real(v), imag(u) + imag(v))\n",
    "-(u::ComplexNumber, v::ComplexNumber) = ComplexNumber(real(u) - real(v), imag(u) - imag(v))\n",
    "*(u::ComplexNumber, v::ComplexNumber) = ComplexNumber(real(u) * real(v) - imag(u) * imag(v), real(u) * imag(v) + imag(u) * real(v))\n",
    "/(u::ComplexNumber, v::ComplexNumber) = ComplexNumber((real(u) * real(v) + imag(u) * imag(v)) / (real(v)^2 + imag(v)^2), (imag(u) * real(v) - real(u) * imag(v)) / (real(v)^2 + imag(v)^2))\n",
    "-(z::ComplexNumber) = ComplexNumber(-real(z), -imag(z))\n",
    "\n"
   ]
  },
  {
   "cell_type": "code",
   "execution_count": 1,
   "metadata": {},
   "outputs": [
    {
     "data": {
      "text/plain": [
       "2"
      ]
     },
     "execution_count": 1,
     "metadata": {},
     "output_type": "execute_result"
    }
   ],
   "source": [
    "1+1"
   ]
  },
  {
   "cell_type": "code",
   "execution_count": 3,
   "metadata": {},
   "outputs": [
    {
     "data": {
      "text/plain": [
       "exp (generic function with 11 methods)"
      ]
     },
     "execution_count": 3,
     "metadata": {},
     "output_type": "execute_result"
    }
   ],
   "source": [
    "# submit\n",
    "\n",
    "function exp(z::ComplexNumber)\n",
    "    z_re, z_im = reim(z)\n",
    "    e_re = exp(z_re)\n",
    "    ComplexNumber(e_re * cos(z_im), e_re * sin(z_im))\n",
    "end"
   ]
  },
  {
   "cell_type": "code",
   "execution_count": 4,
   "metadata": {},
   "outputs": [
    {
     "data": {
      "text/plain": [
       "ComplexNumber{Int64}(0, 1)"
      ]
     },
     "execution_count": 4,
     "metadata": {},
     "output_type": "execute_result"
    }
   ],
   "source": [
    "# submit\n",
    "\n",
    "const jm = ComplexNumber(0, 1)"
   ]
  },
  {
   "cell_type": "code",
   "execution_count": 5,
   "metadata": {},
   "outputs": [
    {
     "ename": "LoadError",
     "evalue": "\u001b[91mArgumentError: Module Test not found in current path.\nRun `Pkg.add(\"Test\")` to install the Test package.\u001b[39m",
     "output_type": "error",
     "traceback": [
      "\u001b[91mArgumentError: Module Test not found in current path.\nRun `Pkg.add(\"Test\")` to install the Test package.\u001b[39m",
      "",
      "Stacktrace:",
      " [1] \u001b[1m_require\u001b[22m\u001b[22m\u001b[1m(\u001b[22m\u001b[22m::Symbol\u001b[1m)\u001b[22m\u001b[22m at \u001b[1m.\\loading.jl:435\u001b[22m\u001b[22m",
      " [2] \u001b[1mrequire\u001b[22m\u001b[22m\u001b[1m(\u001b[22m\u001b[22m::Symbol\u001b[1m)\u001b[22m\u001b[22m at \u001b[1m.\\loading.jl:405\u001b[22m\u001b[22m"
     ]
    }
   ],
   "source": [
    "using Test\n",
    "\n",
    "# include(\"complex-numbers.jl\")\n",
    "\n",
    "@test ComplexNumber <: Number\n",
    "\n",
    "@test ComplexNumber(0, 1)^2 == ComplexNumber(-1, 0)\n",
    "\n",
    "@testset \"Arithmetic\" begin\n",
    "    @testset \"Addition\" begin\n",
    "        @test ComplexNumber(1, 0) + ComplexNumber(2, 0) == ComplexNumber(3, 0)\n",
    "        @test ComplexNumber(0, 1) + ComplexNumber(0, 2) == ComplexNumber(0, 3)\n",
    "        @test ComplexNumber(1, 2) + ComplexNumber(3, 4) == ComplexNumber(4, 6)\n",
    "    end\n",
    "\n",
    "    @testset \"Subtraction\" begin\n",
    "        @test ComplexNumber(1, 0) - ComplexNumber(2, 0) == ComplexNumber(-1, 0)\n",
    "        @test ComplexNumber(0, 1) - ComplexNumber(0, 2) == ComplexNumber(0, -1)\n",
    "        @test ComplexNumber(1, 2) - ComplexNumber(3, 4) == ComplexNumber(-2, -2)\n",
    "    end\n",
    "\n",
    "    @testset \"Multiplication\" begin\n",
    "        @test ComplexNumber(1, 0) * ComplexNumber(2, 0) == ComplexNumber(2, 0)\n",
    "        @test ComplexNumber(0, 1) * ComplexNumber(0, 2) == ComplexNumber(-2, 0)\n",
    "        @test ComplexNumber(1, 2) * ComplexNumber(3, 4) == ComplexNumber(-5, 10)\n",
    "    end\n",
    "\n",
    "    @testset \"Division\" begin\n",
    "        @test ComplexNumber(1, 0) / ComplexNumber(2, 0) == ComplexNumber(0.5, 0)\n",
    "        @test ComplexNumber(0, 1) / ComplexNumber(0, 2) == ComplexNumber(0.5, 0)\n",
    "        @test ComplexNumber(1, 2) / ComplexNumber(3, 4) == ComplexNumber(0.44, 0.08)\n",
    "    end\n",
    "end\n",
    "\n",
    "@testset \"Absolute value\" begin\n",
    "    @test abs(ComplexNumber(5, 0))  == 5\n",
    "    @test abs(ComplexNumber(-5, 0)) == 5\n",
    "    @test abs(ComplexNumber(0, 5))  == 5\n",
    "    @test abs(ComplexNumber(0, -5)) == 5\n",
    "    @test abs(ComplexNumber(3, 4))  == 5\n",
    "end\n",
    "\n",
    "@testset \"Complex conjugate\" begin\n",
    "    @test conj(ComplexNumber(5, 0))  == ComplexNumber(5, 0)\n",
    "    @test conj(ComplexNumber(0, 5))  == ComplexNumber(0, -5)\n",
    "    @test conj(ComplexNumber(1, 1))  == ComplexNumber(1, -1)\n",
    "end\n",
    "\n",
    "@testset \"Real part\" begin\n",
    "    @test real(ComplexNumber(1, 0)) == 1\n",
    "    @test real(ComplexNumber(0, 1)) == 0\n",
    "    @test real(ComplexNumber(1, 2)) == 1\n",
    "end\n",
    "\n",
    "@testset \"Imaginary part\" begin\n",
    "    @test imag(ComplexNumber(1, 0)) == 0\n",
    "    @test imag(ComplexNumber(0, 1)) == 1\n",
    "    @test imag(ComplexNumber(1, 2)) == 2\n",
    "end\n",
    "\n",
    "# Bonus A\n",
    "@testset \"Complex exponential\" begin\n",
    "    @test_skip exp(ComplexNumber(0, π)) ≈ ComplexNumber(-1, 0)\n",
    "    @test_skip exp(ComplexNumber(0, 0)) == ComplexNumber(1, 0)\n",
    "    @test_skip exp(ComplexNumber(1, 0)) ≈ ComplexNumber(e, 0)\n",
    "end\n",
    "\n",
    "# Bonus B\n",
    "@testset \"Syntax sugar jm\" begin\n",
    "    @test_skip ComplexNumber(0, 1)  == jm\n",
    "    @test_skip ComplexNumber(1, 0)  == 1 + 0jm\n",
    "    @test_skip ComplexNumber(1, 1)  == 1 + 1jm\n",
    "    @test_skip ComplexNumber(-1, 0) == jm^2\n",
    "end\n"
   ]
  },
  {
   "cell_type": "code",
   "execution_count": 8,
   "metadata": {},
   "outputs": [
    {
     "data": {
      "text/plain": [
       "Exercism"
      ]
     },
     "execution_count": 8,
     "metadata": {},
     "output_type": "execute_result"
    },
    {
     "name": "stderr",
     "output_type": "stream",
     "text": [
      "WARNING: replacing module Exercism\n"
     ]
    }
   ],
   "source": [
    "module Exercism\n",
    "\n",
    "using JSON\n",
    "\n",
    "function create_submission(slug)\n",
    "    open(\"$slug.jl\", \"w\") do f\n",
    "        write(f, parse_notebook(\"$slug.ipynb\"))\n",
    "    end\n",
    "end\n",
    "\n",
    "function parse_notebook(path)\n",
    "    nb = open(JSON.parse, path, \"r\")\n",
    "\n",
    "    # check if notebook is in acceptable format\n",
    "    nb[\"nbformat\"] == 4 || error(\"unrecognized notebook format \", nb[\"nbformat\"])\n",
    "    lang = lowercase(nb[\"metadata\"][\"language_info\"][\"name\"])\n",
    "    lang == \"julia\" || error(\"unrecognized notebook language $lang\")\n",
    "\n",
    "    submission = \"\"\n",
    "\n",
    "    # scan for cells that contain code marked for submission with `# submit`\n",
    "    for cell in nb[\"cells\"]\n",
    "        if cell[\"cell_type\"] == \"code\" && !isempty(cell[\"source\"])\n",
    "            s = join(cell[\"source\"])\n",
    "            if startswith(s, \"# submit\")\n",
    "                submission *= s\n",
    "            end\n",
    "        end\n",
    "    end\n",
    "\n",
    "    replace(submission, \"# submit\\n\" => \"\")\n",
    "end\n",
    "\n",
    "end # module\n"
   ]
  },
  {
   "cell_type": "code",
   "execution_count": 10,
   "metadata": {},
   "outputs": [
    {
     "data": {
      "text/plain": [
       "1706"
      ]
     },
     "execution_count": 10,
     "metadata": {},
     "output_type": "execute_result"
    }
   ],
   "source": [
    "using Exercism\n",
    "Exercism.create_submission(\"testnb\")"
   ]
  },
  {
   "cell_type": "code",
   "execution_count": null,
   "metadata": {},
   "outputs": [],
   "source": []
  }
 ],
 "metadata": {
  "kernelspec": {
   "display_name": "Julia 0.6.2",
   "language": "julia",
   "name": "julia-0.6"
  },
  "language_info": {
   "file_extension": ".jl",
   "mimetype": "application/julia",
   "name": "julia",
   "version": "0.6.2"
  }
 },
 "nbformat": 4,
 "nbformat_minor": 2
}
